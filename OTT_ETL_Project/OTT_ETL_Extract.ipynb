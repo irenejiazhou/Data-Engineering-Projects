{
 "cells": [
  {
   "cell_type": "code",
   "execution_count": 1,
   "metadata": {},
   "outputs": [
    {
     "name": "stdout",
     "output_type": "stream",
     "text": [
      "Requirement already satisfied: requests in /Users/irenejzhou/opt/anaconda3/envs/pandas_pg/lib/python3.10/site-packages (2.28.1)\n",
      "Collecting azure-storage-blob\n",
      "  Downloading azure_storage_blob-12.16.0-py3-none-any.whl (387 kB)\n",
      "\u001b[2K     \u001b[90m━━━━━━━━━━━━━━━━━━━━━━━━━━━━━━━━━━━━━━━\u001b[0m \u001b[32m388.0/388.0 kB\u001b[0m \u001b[31m4.8 MB/s\u001b[0m eta \u001b[36m0:00:00\u001b[0m00:01\u001b[0m00:01\u001b[0m\n",
      "\u001b[?25hRequirement already satisfied: certifi>=2017.4.17 in /Users/irenejzhou/opt/anaconda3/envs/pandas_pg/lib/python3.10/site-packages (from requests) (2022.6.15)\n",
      "Requirement already satisfied: idna<4,>=2.5 in /Users/irenejzhou/opt/anaconda3/envs/pandas_pg/lib/python3.10/site-packages (from requests) (3.3)\n",
      "Requirement already satisfied: urllib3<1.27,>=1.21.1 in /Users/irenejzhou/opt/anaconda3/envs/pandas_pg/lib/python3.10/site-packages (from requests) (1.26.11)\n",
      "Requirement already satisfied: charset-normalizer<3,>=2 in /Users/irenejzhou/opt/anaconda3/envs/pandas_pg/lib/python3.10/site-packages (from requests) (2.0.4)\n",
      "Requirement already satisfied: cryptography>=2.1.4 in /Users/irenejzhou/opt/anaconda3/envs/pandas_pg/lib/python3.10/site-packages (from azure-storage-blob) (37.0.1)\n",
      "Collecting isodate>=0.6.1\n",
      "  Downloading isodate-0.6.1-py2.py3-none-any.whl (41 kB)\n",
      "\u001b[2K     \u001b[90m━━━━━━━━━━━━━━━━━━━━━━━━━━━━━━━━━━━━━━━━\u001b[0m \u001b[32m41.7/41.7 kB\u001b[0m \u001b[31m1.0 MB/s\u001b[0m eta \u001b[36m0:00:00\u001b[0m\n",
      "\u001b[?25hCollecting azure-core<2.0.0,>=1.26.0\n",
      "  Downloading azure_core-1.27.1-py3-none-any.whl (174 kB)\n",
      "\u001b[2K     \u001b[90m━━━━━━━━━━━━━━━━━━━━━━━━━━━━━━━━━━━━━━━\u001b[0m \u001b[32m174.5/174.5 kB\u001b[0m \u001b[31m6.3 MB/s\u001b[0m eta \u001b[36m0:00:00\u001b[0m\n",
      "\u001b[?25hRequirement already satisfied: typing-extensions>=4.0.1 in /Users/irenejzhou/opt/anaconda3/envs/pandas_pg/lib/python3.10/site-packages (from azure-storage-blob) (4.3.0)\n",
      "Requirement already satisfied: six>=1.11.0 in /Users/irenejzhou/opt/anaconda3/envs/pandas_pg/lib/python3.10/site-packages (from azure-core<2.0.0,>=1.26.0->azure-storage-blob) (1.16.0)\n",
      "Requirement already satisfied: cffi>=1.12 in /Users/irenejzhou/opt/anaconda3/envs/pandas_pg/lib/python3.10/site-packages (from cryptography>=2.1.4->azure-storage-blob) (1.15.1)\n",
      "Requirement already satisfied: pycparser in /Users/irenejzhou/opt/anaconda3/envs/pandas_pg/lib/python3.10/site-packages (from cffi>=1.12->cryptography>=2.1.4->azure-storage-blob) (2.21)\n",
      "Installing collected packages: isodate, azure-core, azure-storage-blob\n",
      "Successfully installed azure-core-1.27.1 azure-storage-blob-12.16.0 isodate-0.6.1\n",
      "Note: you may need to restart the kernel to use updated packages.\n"
     ]
    }
   ],
   "source": [
    "pip install requests azure-storage-blob "
   ]
  },
  {
   "cell_type": "code",
   "execution_count": 2,
   "metadata": {},
   "outputs": [
    {
     "name": "stdout",
     "output_type": "stream",
     "text": [
      "Collecting PyGithub\n",
      "  Downloading PyGithub-1.58.2-py3-none-any.whl (312 kB)\n",
      "\u001b[2K     \u001b[90m━━━━━━━━━━━━━━━━━━━━━━━━━━━━━━━━━━━━━━━\u001b[0m \u001b[32m312.5/312.5 kB\u001b[0m \u001b[31m5.8 MB/s\u001b[0m eta \u001b[36m0:00:00\u001b[0m00:01\u001b[0m\n",
      "\u001b[?25hCollecting pyjwt[crypto]>=2.4.0\n",
      "  Downloading PyJWT-2.7.0-py3-none-any.whl (22 kB)\n",
      "Collecting deprecated\n",
      "  Downloading Deprecated-1.2.14-py2.py3-none-any.whl (9.6 kB)\n",
      "Collecting pynacl>=1.4.0\n",
      "  Downloading PyNaCl-1.5.0-cp36-abi3-macosx_10_10_universal2.whl (349 kB)\n",
      "\u001b[2K     \u001b[90m━━━━━━━━━━━━━━━━━━━━━━━━━━━━━━━━━━━━━━\u001b[0m \u001b[32m349.9/349.9 kB\u001b[0m \u001b[31m13.4 MB/s\u001b[0m eta \u001b[36m0:00:00\u001b[0m\n",
      "\u001b[?25hRequirement already satisfied: requests>=2.14.0 in /Users/irenejzhou/opt/anaconda3/envs/pandas_pg/lib/python3.10/site-packages (from PyGithub) (2.28.1)\n",
      "Requirement already satisfied: cryptography>=3.4.0 in /Users/irenejzhou/opt/anaconda3/envs/pandas_pg/lib/python3.10/site-packages (from pyjwt[crypto]>=2.4.0->PyGithub) (37.0.1)\n",
      "Requirement already satisfied: cffi>=1.4.1 in /Users/irenejzhou/opt/anaconda3/envs/pandas_pg/lib/python3.10/site-packages (from pynacl>=1.4.0->PyGithub) (1.15.1)\n",
      "Requirement already satisfied: charset-normalizer<3,>=2 in /Users/irenejzhou/opt/anaconda3/envs/pandas_pg/lib/python3.10/site-packages (from requests>=2.14.0->PyGithub) (2.0.4)\n",
      "Requirement already satisfied: urllib3<1.27,>=1.21.1 in /Users/irenejzhou/opt/anaconda3/envs/pandas_pg/lib/python3.10/site-packages (from requests>=2.14.0->PyGithub) (1.26.11)\n",
      "Requirement already satisfied: idna<4,>=2.5 in /Users/irenejzhou/opt/anaconda3/envs/pandas_pg/lib/python3.10/site-packages (from requests>=2.14.0->PyGithub) (3.3)\n",
      "Requirement already satisfied: certifi>=2017.4.17 in /Users/irenejzhou/opt/anaconda3/envs/pandas_pg/lib/python3.10/site-packages (from requests>=2.14.0->PyGithub) (2022.6.15)\n",
      "Requirement already satisfied: wrapt<2,>=1.10 in /Users/irenejzhou/opt/anaconda3/envs/pandas_pg/lib/python3.10/site-packages (from deprecated->PyGithub) (1.14.1)\n",
      "Requirement already satisfied: pycparser in /Users/irenejzhou/opt/anaconda3/envs/pandas_pg/lib/python3.10/site-packages (from cffi>=1.4.1->pynacl>=1.4.0->PyGithub) (2.21)\n",
      "Installing collected packages: pyjwt, deprecated, pynacl, PyGithub\n",
      "Successfully installed PyGithub-1.58.2 deprecated-1.2.14 pyjwt-2.7.0 pynacl-1.5.0\n",
      "Note: you may need to restart the kernel to use updated packages.\n"
     ]
    }
   ],
   "source": [
    "pip install PyGithub"
   ]
  },
  {
   "cell_type": "code",
   "execution_count": 4,
   "metadata": {},
   "outputs": [
    {
     "name": "stdout",
     "output_type": "stream",
     "text": [
      "Uploaded 2022-04-12 110513.455313.csv to Azure Data Storage\n",
      "Uploaded 2023-01-07 310512.244212.csv to Azure Data Storage\n",
      "Uploaded 2023-01-12 870541.011241.csv to Azure Data Storage\n",
      "Uploaded 2023-01-13 120513.211200.csv to Azure Data Storage\n",
      "Uploaded 2023-01-14 451113.110513.csv to Azure Data Storage\n",
      "Uploaded 2023-01-15 213417.413947.csv to Azure Data Storage\n",
      "Uploaded 2023-01-17 711014.471147.csv to Azure Data Storage\n",
      "Uploaded 2023-01-19 301474.910198.csv to Azure Data Storage\n",
      "Uploaded 2023-01-21 914981.347557.csv to Azure Data Storage\n",
      "Uploaded 2023-01-28 874532.732175.csv to Azure Data Storage\n",
      "Uploaded 2023-02-01 574144.744251.csv to Azure Data Storage\n",
      "Uploaded 2023-02-02 488774.624474.csv to Azure Data Storage\n",
      "Uploaded 2023-02-03 098417.925441.csv to Azure Data Storage\n",
      "Uploaded 2023-02-06 197741.150500.csv to Azure Data Storage\n",
      "Uploaded 2023-02-07 171140.547701.csv to Azure Data Storage\n",
      "Uploaded 2023-02-08 282214.950117.csv to Azure Data Storage\n",
      "Uploaded 2023-02-09 901171.911189.csv to Azure Data Storage\n",
      "Uploaded 2023-02-10 270147.874793.csv to Azure Data Storage\n",
      "Uploaded 2023-02-16 094712.950119.csv to Azure Data Storage\n",
      "Uploaded 2023-02-23 200147.874793.csv to Azure Data Storage\n",
      "Uploaded 2023-03-02 879117.514778.csv to Azure Data Storage\n"
     ]
    }
   ],
   "source": [
    "import requests\n",
    "from azure.storage.blob import BlobServiceClient, BlobClient, ContainerClient\n",
    "from github import Github\n",
    "\n",
    "# GitHub repository details\n",
    "github_token = \"************************************\"\n",
    "github_repo = \"irenejiazhou/Data-Engineering-Projects-Public\"\n",
    "folder_path = \"OTT_ETL_Project/Host\"\n",
    "\n",
    "# Azure storage details\n",
    "connection_string = \"DefaultEndpointsProtocol=https;AccountName=***********;AccountKey=*******************;EndpointSuffix=core.windows.net\"\n",
    "container_name = \"raw/Ingest\"\n",
    "blob_service_client = BlobServiceClient.from_connection_string(connection_string)\n",
    "container_client = blob_service_client.get_container_client(container_name)\n",
    "\n",
    "# Create GitHub client\n",
    "agh = Github(github_token)\n",
    "repo = agh.get_repo(github_repo)\n",
    "\n",
    "# Get list of files in repository\n",
    "contents = repo.get_contents(folder_path)\n",
    "\n",
    "for content in contents:\n",
    "    if content.name.endswith('.csv'):\n",
    "        response = requests.get(content.download_url)\n",
    "        if response.status_code == 200:\n",
    "            file_data = response.content\n",
    "            blob_client = container_client.get_blob_client(content.name)\n",
    "            blob_client.upload_blob(file_data, overwrite=True)\n",
    "            print(f\"Uploaded {content.name} to Azure Data Storage\")\n",
    "        else:\n",
    "            print(f\"Failed to download {content.name} from GitHub\")"
   ]
  }
 ],
 "metadata": {
  "kernelspec": {
   "display_name": "pandas_pg",
   "language": "python",
   "name": "python3"
  },
  "language_info": {
   "codemirror_mode": {
    "name": "ipython",
    "version": 3
   },
   "file_extension": ".py",
   "mimetype": "text/x-python",
   "name": "python",
   "nbconvert_exporter": "python",
   "pygments_lexer": "ipython3",
   "version": "3.10.4"
  },
  "orig_nbformat": 4
 },
 "nbformat": 4,
 "nbformat_minor": 2
}
